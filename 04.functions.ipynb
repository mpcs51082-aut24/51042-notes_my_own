{
 "cells": [
  {
   "cell_type": "markdown",
   "id": "eeb9e8e4",
   "metadata": {},
   "source": [
    "## Functions"
   ]
  },
  {
   "cell_type": "markdown",
   "id": "ca5869a5-ec46-43e2-b4e1-ce47f6767328",
   "metadata": {
    "slideshow": {
     "slide_type": "slide"
    },
    "toc-hr-collapsed": true
   },
   "source": [
    "## Functions Revisited\n",
    "\n",
    "From the \"procedural\" point of view, a function (procedure) is a set of statements that can be called more than once, we use parameters to make our procedures more reusable.\n",
    "\n",
    "This is the \"recipe\" model of programming. \n",
    "A procedure is a recipe, a series of steps to follow to achieve a result.\n",
    "\n",
    "Our first paradigm, **procedural programming** leans heavily on the constructs we've seen: loops, conditionals, and the use of functions to break large procedures into smaller ones.\n",
    "\n",
    "Some languages make a distinction between procedures and functions. In Python we don't make this distinction, but we will soon see another style of programming where we'll think differently about how we use functions.\n",
    "\n",
    "Benefits of procedures (functions):\n",
    "\n",
    "- Encapsulation: package logic so \"user\" does not need to understand *implementation*, only *interface*.\n",
    "- Avoid copy/paste to repeat same task: maximize code reuse and minimize redundancy.\n",
    "- Procedural decomposition: split our program into subtasks (i.e., functions) with separate roles.\n",
    "    - Small functions are easier to test, easier to write, and easier to refactor.\n",
    "    - Makes life easier for debugging, testing, doing maintenance on code."
   ]
  },
  {
   "cell_type": "markdown",
   "id": "ec7fa7ef-d733-4bb6-ab52-1dbef3948e86",
   "metadata": {
    "slideshow": {
     "slide_type": "subslide"
    }
   },
   "source": [
    "```python\n",
    "def function_name(arg1, arg2, arg3):\n",
    "    \"\"\"\n",
    "         Description of function task \n",
    "\n",
    "         Inputs: \n",
    "             arg1(type): description of arg1 \n",
    "             arg2: description of arg2\n",
    "             arg3: description of arg2\n",
    "\n",
    "         Outputs:\n",
    "             Description of what this function returns \n",
    "    \"\"\"\n",
    "    statement1\n",
    "    statement2\n",
    "    statement3\n",
    "    return value  # optional\n",
    "```"
   ]
  },
  {
   "cell_type": "markdown",
   "id": "3844e6b9",
   "metadata": {},
   "source": [
    "## Arguments"
   ]
  },
  {
   "cell_type": "markdown",
   "id": "2845b7e6-50e9-4047-8cee-03652f6c02b4",
   "metadata": {},
   "source": [
    "In some languages, you can pass arguments by value or by reference.\n",
    "In Python all values are \"passed by assignment\".\n",
    "\n",
    "```python\n",
    "def func(a, b):\n",
    "    ...\n",
    "    \n",
    "x = 7\n",
    "y = [1, 2, 3]\n",
    "func(x, y)\n",
    "\n",
    "# you can think of the function starting with assignments to its parameters\n",
    "a = x\n",
    "b = y\n",
    "```\n",
    "\n",
    "This means mutability determines whether or not a function can modify a parameter in the outer scope."
   ]
  },
  {
   "cell_type": "markdown",
   "id": "ca63a3e7",
   "metadata": {},
   "source": [
    "Unless otherwise specified, function arguments are **required**, and can be passed either **by position** or **by name**.\n",
    "\n",
    "As we will see, we can also make optional arguments, as well as arguments that can only be passed by position or by name."
   ]
  },
  {
   "cell_type": "code",
   "execution_count": 3,
   "id": "8873aa8d-f4d1-4163-a823-e0b2a5b5a0db",
   "metadata": {
    "tags": []
   },
   "outputs": [],
   "source": [
    "def calculate_cost(items, tax):\n",
    "    pass\n",
    "\n",
    "calculate_cost([\"salmon\", \"eggs\", \"bagels\"], 0.05)   # items & tax passed by position"
   ]
  },
  {
   "cell_type": "code",
   "execution_count": 5,
   "id": "b665fccc-1fac-4913-b256-3b0352bd28c3",
   "metadata": {
    "tags": []
   },
   "outputs": [],
   "source": [
    "calculate_cost([\"salmon\", \"eggs\", \"bagels\"], tax=0.05) # tax passed by name for clarity"
   ]
  },
  {
   "cell_type": "markdown",
   "id": "c05472de",
   "metadata": {},
   "source": [
    "## Optional Arguments\n",
    "\n",
    "Python allows default values to be assigned to function parameters.\n",
    "\n",
    "Arguments with default values are not required.  Passed in values will override default."
   ]
  },
  {
   "cell_type": "code",
   "execution_count": null,
   "id": "3e20fc7a",
   "metadata": {
    "tags": []
   },
   "outputs": [],
   "source": [
    "# default arguments\n",
    "def is_it_freezing(temp, is_celsius=True):\n",
    "    if is_celsius:\n",
    "        freezing_line = 0\n",
    "    else:\n",
    "        freezing_line = 32\n",
    "    return temp < freezing_line"
   ]
  },
  {
   "cell_type": "code",
   "execution_count": null,
   "id": "657bac88",
   "metadata": {
    "tags": []
   },
   "outputs": [],
   "source": [
    "print(is_it_freezing(65))\n",
    "print(is_it_freezing(30))\n",
    "print(is_it_freezing(30, is_celsius=False))\n",
    "print(is_it_freezing(-1, is_celsius=True))\n",
    "#print(is_it_freezing())"
   ]
  },
  {
   "cell_type": "markdown",
   "id": "f5953e4e",
   "metadata": {},
   "source": [
    "You can have as many optional parameters as you wish, but they must all come after any required parameters."
   ]
  },
  {
   "cell_type": "code",
   "execution_count": 7,
   "id": "380a1533",
   "metadata": {
    "tags": []
   },
   "outputs": [
    {
     "ename": "SyntaxError",
     "evalue": "non-default argument follows default argument (3809656351.py, line 2)",
     "output_type": "error",
     "traceback": [
      "\u001b[0;36m  Cell \u001b[0;32mIn[7], line 2\u001b[0;36m\u001b[0m\n\u001b[0;31m    def bad_function(a, b=\"spam\", c):\u001b[0m\n\u001b[0m                                  ^\u001b[0m\n\u001b[0;31mSyntaxError\u001b[0m\u001b[0;31m:\u001b[0m non-default argument follows default argument\n"
     ]
    }
   ],
   "source": [
    "# intentional error\n",
    "def bad_function(a, b=\"spam\", c):\n",
    "    pass"
   ]
  },
  {
   "cell_type": "markdown",
   "id": "d61b4aa0",
   "metadata": {},
   "source": [
    "## Argument Matching \n",
    "\n",
    "- Positional arguments are matched from left to right.\n",
    "- Keywords matched by name."
   ]
  },
  {
   "cell_type": "code",
   "execution_count": 8,
   "id": "b25bca3b",
   "metadata": {
    "scrolled": true,
    "tags": []
   },
   "outputs": [
    {
     "name": "stdout",
     "output_type": "stream",
     "text": [
      "Help on built-in function print in module builtins:\n",
      "\n",
      "print(...)\n",
      "    print(value, ..., sep=' ', end='\\n', file=sys.stdout, flush=False)\n",
      "    \n",
      "    Prints the values to a stream, or to sys.stdout by default.\n",
      "    Optional keyword arguments:\n",
      "    file:  a file-like object (stream); defaults to the current sys.stdout.\n",
      "    sep:   string inserted between values, default a space.\n",
      "    end:   string appended after the last value, default a newline.\n",
      "    flush: whether to forcibly flush the stream.\n",
      "\n"
     ]
    }
   ],
   "source": [
    "# print() as an example [call help to see docstring]\n",
    "help(print)"
   ]
  },
  {
   "cell_type": "code",
   "execution_count": null,
   "id": "c88ce0c2",
   "metadata": {
    "scrolled": true,
    "tags": []
   },
   "outputs": [],
   "source": [
    "print(\"Something\", \"something else\", \"a third thing\", sep=\"~\", end=\"!\\n\")\n",
    "print(\"Something\", \"something else\", \"a third thing\", sep=\"*\", end=\"!\\n\")"
   ]
  },
  {
   "cell_type": "markdown",
   "id": "7da7a685",
   "metadata": {},
   "source": [
    "## keyword and positional-only arguments\n",
    "\n",
    "Including a bare `*` as a parameter means everything after can only be passed by keyword.\n",
    "\n",
    "\n",
    "For example:"
   ]
  },
  {
   "cell_type": "code",
   "execution_count": null,
   "id": "a144f732",
   "metadata": {},
   "outputs": [],
   "source": [
    "def request_page(url, verify, cache=True, send_cookies=False, https_only=True):\n",
    "    pass\n",
    "\n",
    "request_page(\"https://example.com\", True, False, True, False)\n",
    "# or was it \n",
    "request_page(\"https://example.com\", True, send_cookies=False, https_only=False, cache=True)"
   ]
  },
  {
   "cell_type": "code",
   "execution_count": null,
   "id": "c3961865",
   "metadata": {
    "tags": []
   },
   "outputs": [],
   "source": [
    "# instead\n",
    "def request_page(url, *, verify, follow_redirects=False, cache=True, send_cookies=False, https_only=True):\n",
    "    pass"
   ]
  },
  {
   "cell_type": "code",
   "execution_count": null,
   "id": "be69d6e3",
   "metadata": {
    "tags": []
   },
   "outputs": [],
   "source": [
    "request_page(\"https://example.com\", verify=True)"
   ]
  },
  {
   "cell_type": "markdown",
   "id": "6423e576",
   "metadata": {},
   "source": [
    "Including a bare `/` means everything beforehand is positional only:\n"
   ]
  },
  {
   "cell_type": "code",
   "execution_count": null,
   "id": "d7f599fe-cb57-40c8-b337-7d9ccb8f32b9",
   "metadata": {
    "tags": []
   },
   "outputs": [],
   "source": []
  },
  {
   "cell_type": "code",
   "execution_count": 9,
   "id": "8720d3db",
   "metadata": {
    "tags": []
   },
   "outputs": [],
   "source": [
    "def pos_only(x, y, /):\n",
    "    print(x, y)"
   ]
  },
  {
   "cell_type": "code",
   "execution_count": null,
   "id": "fe16b03f",
   "metadata": {
    "tags": []
   },
   "outputs": [],
   "source": [
    "pos_only(\"hello\", \"world\")"
   ]
  },
  {
   "cell_type": "code",
   "execution_count": null,
   "id": "ed248450",
   "metadata": {
    "tags": []
   },
   "outputs": [],
   "source": [
    "min(1, 2)  # arguments to min are positional only, we don't need to know if they are a, b or x, y, or first, second"
   ]
  },
  {
   "cell_type": "code",
   "execution_count": null,
   "id": "83bd29a5-b208-4722-aed5-d3c8e56f11af",
   "metadata": {
    "tags": []
   },
   "outputs": [],
   "source": []
  },
  {
   "cell_type": "code",
   "execution_count": null,
   "id": "c57d14e7",
   "metadata": {
    "tags": []
   },
   "outputs": [],
   "source": [
    "pos_only(\"hello\", \"world\")"
   ]
  },
  {
   "cell_type": "markdown",
   "id": "8c9ceab8",
   "metadata": {},
   "source": [
    "## Unpacking/Splatting\n",
    "\n",
    "`*` and `**` are also known as unpacking or splatting operators.\n",
    "\n",
    "When in a function signature, they coalesce arguments into a `tuple` and `dict` as we've seen.\n",
    "\n",
    "When used on a parameter when calling a function, they \"unpack\" the values from a sequence or dict."
   ]
  },
  {
   "cell_type": "code",
   "execution_count": null,
   "id": "8c76791c",
   "metadata": {
    "tags": []
   },
   "outputs": [],
   "source": [
    "def takes_many(a, b, c, d):\n",
    "    print(f\"{a=} {b=} {c=} {d=}\")\n",
    "\n",
    "three = [\"A\", \"B\", \"C\"]\n",
    "four = (1, 2, 3, 4)\n",
    "five = (False, False, False, False, False)"
   ]
  },
  {
   "cell_type": "code",
   "execution_count": null,
   "id": "6b026e40",
   "metadata": {
    "tags": []
   },
   "outputs": [],
   "source": [
    "takes_many(*four)"
   ]
  },
  {
   "cell_type": "code",
   "execution_count": null,
   "id": "81227c1c-e7ef-43b9-834a-426df03e4901",
   "metadata": {
    "tags": []
   },
   "outputs": [],
   "source": [
    "takes_many(*three)"
   ]
  },
  {
   "cell_type": "code",
   "execution_count": null,
   "id": "25afe0fa",
   "metadata": {
    "tags": []
   },
   "outputs": [],
   "source": [
    "takes_many(*five)"
   ]
  },
  {
   "cell_type": "code",
   "execution_count": null,
   "id": "f83e1d2c",
   "metadata": {
    "tags": []
   },
   "outputs": [],
   "source": [
    "# double-splat\n",
    "keywords = {\"planet_a\": \"sun\", \"planet_c\": \"venus\", \"d\": \"mars\"}\n",
    "takes_many(*keywords, d=\"one\")"
   ]
  },
  {
   "cell_type": "code",
   "execution_count": null,
   "id": "68665bc7-0325-4843-b73b-e93d2f0ef9a5",
   "metadata": {},
   "outputs": [],
   "source": []
  },
  {
   "cell_type": "code",
   "execution_count": null,
   "id": "a207252c",
   "metadata": {
    "tags": []
   },
   "outputs": [],
   "source": [
    "import math\n",
    "\n",
    "\n",
    "def distance(x1, y1, x2, y2):\n",
    "    \"\"\"\n",
    "    Find distance between two points.\n",
    "    \n",
    "    Inputs:\n",
    "        point1: 2-element tuple (x, y)\n",
    "        point2: 2-element tuple (x, y)\n",
    "\n",
    "    Output: Distance between point1 and point2 (float).\n",
    "    \"\"\"\n",
    "    return math.sqrt(math.pow(x2-x1, 2) + math.pow(y2-y1, 2))"
   ]
  },
  {
   "cell_type": "code",
   "execution_count": null,
   "id": "269d6da6",
   "metadata": {
    "tags": []
   },
   "outputs": [],
   "source": [
    "# we can use sequence-unpacking to turn tuples/lists into multiple arguments\n",
    "a = (3, 4)\n",
    "b = [5, 5]\n",
    "distance(*a, *b) # our 2 parameters become 4"
   ]
  },
  {
   "cell_type": "code",
   "execution_count": null,
   "id": "ccbc56bf-fd3d-4c55-bad3-6327ddc4e1da",
   "metadata": {},
   "outputs": [],
   "source": [
    "a = [1,2,3,4]\n",
    "a[0:3]"
   ]
  },
  {
   "cell_type": "code",
   "execution_count": null,
   "id": "cb8464bd",
   "metadata": {},
   "outputs": [],
   "source": [
    "http_params = {\"verify\": False, \"https_only\": True, \"timeout_sec\": 3}\n",
    "request_page(\"url\", **http_params)"
   ]
  },
  {
   "cell_type": "code",
   "execution_count": null,
   "id": "12ea48b3-2e4f-488c-bc14-fc3062785515",
   "metadata": {},
   "outputs": [],
   "source": [
    "def fn1(url, kw1=None, kw2=None, kw3=None):\n",
    "    ...\n",
    "    \n",
    "def fn2(url, **kwargs):\n",
    "    if is_valid(url):\n",
    "        kwargs[\"additional_arg\"] = 4\n",
    "        return fn1(url, **kwargs)\n",
    "    return None\n",
    "    "
   ]
  },
  {
   "cell_type": "markdown",
   "id": "a864fe5d",
   "metadata": {},
   "source": [
    "## Caveat: Mutable Default Arguments\n",
    "\n",
    "The `def` line of a function is only evaluated once, not every time the function is called.\n",
    "\n",
    "This can feel surprising at first, but important to understand & remember that only the inner-block of a function is executed on each call.\n",
    "\n",
    "This is a common cause of bugs if a mutable is a part of the default arguments."
   ]
  },
  {
   "cell_type": "code",
   "execution_count": null,
   "id": "7b668730",
   "metadata": {
    "tags": []
   },
   "outputs": [],
   "source": [
    "def add_many(item, n, base_list=[]):\n",
    "    print(id(base_list))\n",
    "    base_list.extend([item] * n)\n",
    "    return base_list"
   ]
  },
  {
   "cell_type": "code",
   "execution_count": null,
   "id": "33f08dc3",
   "metadata": {
    "tags": []
   },
   "outputs": [],
   "source": [
    "# passing in a list for base_list works as expected...\n",
    "animals = [\"cow\"]\n",
    "add_many(\"bear\", 3, animals)\n",
    "add_many(\"fish\", 5, animals)\n",
    "print(animals)"
   ]
  },
  {
   "cell_type": "code",
   "execution_count": null,
   "id": "6f032467",
   "metadata": {
    "tags": []
   },
   "outputs": [],
   "source": [
    "# let's invoke without a base_list parameter\n",
    "animals2 = add_many(\"dog\", 3)\n",
    "print(animals2)"
   ]
  },
  {
   "cell_type": "code",
   "execution_count": null,
   "id": "e59a4e7e",
   "metadata": {
    "tags": []
   },
   "outputs": [],
   "source": [
    "animals3 = add_many(\"turtle\", 4)\n",
    "print(animals3)"
   ]
  },
  {
   "cell_type": "code",
   "execution_count": null,
   "id": "8bbae145",
   "metadata": {
    "tags": []
   },
   "outputs": [],
   "source": [
    "animals2"
   ]
  },
  {
   "cell_type": "code",
   "execution_count": null,
   "id": "21265990-0d35-4da9-a95d-60020792eb90",
   "metadata": {
    "tags": []
   },
   "outputs": [],
   "source": []
  },
  {
   "cell_type": "code",
   "execution_count": null,
   "id": "fb1c69f0",
   "metadata": {
    "tags": []
   },
   "outputs": [],
   "source": [
    "animals2 is animals3"
   ]
  },
  {
   "cell_type": "code",
   "execution_count": null,
   "id": "8d35c154",
   "metadata": {
    "tags": []
   },
   "outputs": [],
   "source": [
    "# fixed version\n",
    "def add_many(item, n, base_list=None):\n",
    "    if base_list is None:\n",
    "        base_list = []\n",
    "    base_list.extend([item] * n)\n",
    "    return base_list"
   ]
  },
  {
   "cell_type": "code",
   "execution_count": null,
   "id": "ef40c301",
   "metadata": {
    "tags": []
   },
   "outputs": [],
   "source": [
    "\n",
    "# this usage takes advantage of the fact that the cache_dict is shared between calls\n",
    "# this is fine to do if you're sure you know what you're doing.\n",
    "# Since it is unexpected/tricky, should definitely be commented\n",
    "def add_cached(x, y, cache_dict={}):\n",
    "    print(cache_dict)\n",
    "    if (x, y) not in cache_dict:\n",
    "        print(\"did calculation\", x, y)\n",
    "        cache_dict[x, y] = x + y\n",
    "    return cache_dict[x, y]"
   ]
  },
  {
   "cell_type": "code",
   "execution_count": null,
   "id": "8ea61c05",
   "metadata": {
    "tags": []
   },
   "outputs": [],
   "source": [
    "add_cached(4, 5)"
   ]
  },
  {
   "cell_type": "code",
   "execution_count": null,
   "id": "2f5daa3e-2147-436e-aacc-e75349735b83",
   "metadata": {
    "tags": []
   },
   "outputs": [],
   "source": [
    "add_cached(6, 10)"
   ]
  },
  {
   "cell_type": "code",
   "execution_count": null,
   "id": "81baf040-cbae-4856-af98-47036c3db7c0",
   "metadata": {
    "tags": []
   },
   "outputs": [],
   "source": [
    "add_cached(4, 5)"
   ]
  },
  {
   "cell_type": "markdown",
   "id": "097a61f9",
   "metadata": {},
   "source": [
    "## Variable Length Arguments\n",
    "\n",
    "Sometimes we want a function that can take any number of parameters (seen above in `print`).\n",
    "\n",
    "Collect arbitrary positional arguments with `*param_name`. (Often `*args`)\n",
    "\n",
    "Collect arbitrary named arguments with `**param_name`. (Often `**kwargs`)"
   ]
  },
  {
   "cell_type": "code",
   "execution_count": null,
   "id": "51243d5a",
   "metadata": {
    "tags": []
   },
   "outputs": [],
   "source": [
    "# *args example\n",
    "\n",
    "def add_many(*args):\n",
    "    total = 0\n",
    "    for num in args:\n",
    "        total += num\n",
    "    return total"
   ]
  },
  {
   "cell_type": "code",
   "execution_count": null,
   "id": "bd472168-a05a-4727-83d1-74dad537396f",
   "metadata": {
    "tags": []
   },
   "outputs": [],
   "source": [
    "add_many(1, 2, 3, 4, 5)"
   ]
  },
  {
   "cell_type": "code",
   "execution_count": null,
   "id": "f140e30e",
   "metadata": {
    "tags": []
   },
   "outputs": [],
   "source": []
  },
  {
   "cell_type": "code",
   "execution_count": null,
   "id": "f28c1819",
   "metadata": {
    "tags": []
   },
   "outputs": [],
   "source": [
    "# **kwargs example\n",
    "\n",
    "def show_table(**kwargs):\n",
    "    for name in kwargs:\n",
    "        print(f\"{name:>10} | {kwargs[name]}\")\n",
    "        \n",
    "# Using advanced string formatting, see https://docs.python.org/3/library/string.html#formatstrings"
   ]
  },
  {
   "cell_type": "code",
   "execution_count": null,
   "id": "ec1b868e-a647-4e14-b259-2dcc3243caf8",
   "metadata": {},
   "outputs": [],
   "source": []
  },
  {
   "cell_type": "code",
   "execution_count": null,
   "id": "8a88495d",
   "metadata": {
    "tags": []
   },
   "outputs": [],
   "source": [
    "show_table(spam=100, eggs=12, other=42.0)"
   ]
  },
  {
   "cell_type": "code",
   "execution_count": null,
   "id": "fbde7e32-9d6c-42ff-b4d7-47d2911b907a",
   "metadata": {
    "tags": []
   },
   "outputs": [],
   "source": [
    "def fn(a, *args, n=5, **kwargs):\n",
    "    print(a, args, n, kwargs)"
   ]
  },
  {
   "cell_type": "code",
   "execution_count": null,
   "id": "66278fda-4e78-4e8e-bf65-7fc3e25b7acd",
   "metadata": {
    "tags": []
   },
   "outputs": [],
   "source": [
    "#def example(*args, *args) # not allowed"
   ]
  },
  {
   "cell_type": "code",
   "execution_count": null,
   "id": "0fbba710-5d89-4cf8-9472-807e759b5b77",
   "metadata": {
    "tags": []
   },
   "outputs": [],
   "source": [
    "#fn(x=7, x=8)"
   ]
  },
  {
   "cell_type": "code",
   "execution_count": null,
   "id": "f25c3255-4443-4505-9f63-bfda97548fb6",
   "metadata": {
    "tags": []
   },
   "outputs": [],
   "source": [
    "fn(1, 2, 3, rest=5)"
   ]
  },
  {
   "cell_type": "markdown",
   "id": "87a59123",
   "metadata": {},
   "source": [
    "## Discussion\n",
    "\n",
    "\n",
    "- What types are `args` and `kwargs`?\n",
    "- When would you use `*args`? `**kwargs`?\n",
    "- What would `func(*args1, *args2)` do?\n",
    "- f,g,h,k examples\n"
   ]
  },
  {
   "cell_type": "markdown",
   "id": "db1ab116-c4a0-4971-83c3-d5d2c7730221",
   "metadata": {},
   "source": [
    "### When should you use defaults, name-only, positional-only?\n",
    "\n",
    "Your function provides an \"interface\" for other programmers to interact with.\n",
    "\n",
    "Proper choices help other programmers understand how to call your functions and should be chosen to make things easier for others.\n",
    "\n",
    "What would you prefer?\n",
    "\n",
    "`get(\"https://example.com\", [500, 501, 503], 2.5, 2, False)`\n",
    "\n",
    "or\n",
    "\n",
    "`get(\"https://example.com\", retry_if=[500, 501, 503], timeout_sec=2.5, retries=2, verify_ssl=False)`\n",
    "\n",
    "**Always consider \"future you\" among those hypothetical \"other programmers\".**"
   ]
  },
  {
   "cell_type": "code",
   "execution_count": null,
   "id": "ce594c78-0561-488a-9353-17c4327925a8",
   "metadata": {},
   "outputs": [],
   "source": []
  },
  {
   "cell_type": "code",
   "execution_count": null,
   "id": "59eb41da",
   "metadata": {
    "tags": []
   },
   "outputs": [],
   "source": [
    "# two required args\n",
    "def f(x, y):\n",
    "    print(f\"{x=} {y=}\")"
   ]
  },
  {
   "cell_type": "code",
   "execution_count": null,
   "id": "04b08446",
   "metadata": {
    "tags": []
   },
   "outputs": [],
   "source": [
    "f(1, 2)"
   ]
  },
  {
   "cell_type": "code",
   "execution_count": null,
   "id": "b7573001",
   "metadata": {
    "tags": []
   },
   "outputs": [],
   "source": [
    "f(1)"
   ]
  },
  {
   "cell_type": "code",
   "execution_count": null,
   "id": "da2271fa",
   "metadata": {
    "tags": []
   },
   "outputs": [],
   "source": [
    "# a default argument\n",
    "def g(x, y=3):\n",
    "    print(f\"{x=} {y=}\")"
   ]
  },
  {
   "cell_type": "code",
   "execution_count": null,
   "id": "01b06cd7-f7a7-41e2-8527-bf75828fe659",
   "metadata": {
    "tags": []
   },
   "outputs": [],
   "source": [
    "g()"
   ]
  },
  {
   "cell_type": "code",
   "execution_count": null,
   "id": "c6d0abdf",
   "metadata": {
    "tags": []
   },
   "outputs": [],
   "source": [
    "g(1)"
   ]
  },
  {
   "cell_type": "code",
   "execution_count": null,
   "id": "e5eee452",
   "metadata": {
    "tags": []
   },
   "outputs": [],
   "source": [
    "g(1, 2)"
   ]
  },
  {
   "cell_type": "code",
   "execution_count": null,
   "id": "a08c34e4",
   "metadata": {
    "tags": []
   },
   "outputs": [],
   "source": [
    "# all default args\n",
    "def h(x =\"abc\", y=3, z=True):\n",
    "    print(f\"{x=} {y=} {z=}\")"
   ]
  },
  {
   "cell_type": "code",
   "execution_count": null,
   "id": "f62cdffa",
   "metadata": {
    "tags": []
   },
   "outputs": [],
   "source": [
    "h()"
   ]
  },
  {
   "cell_type": "code",
   "execution_count": null,
   "id": "ee097684",
   "metadata": {
    "tags": []
   },
   "outputs": [],
   "source": [
    "h(1)"
   ]
  },
  {
   "cell_type": "code",
   "execution_count": null,
   "id": "29fdaad7",
   "metadata": {
    "tags": []
   },
   "outputs": [],
   "source": [
    "h(z=False)"
   ]
  },
  {
   "cell_type": "code",
   "execution_count": null,
   "id": "98687995",
   "metadata": {
    "tags": []
   },
   "outputs": [],
   "source": [
    "h(3, x=1)"
   ]
  },
  {
   "cell_type": "code",
   "execution_count": null,
   "id": "56b563f5",
   "metadata": {
    "tags": []
   },
   "outputs": [],
   "source": [
    "h(3, y=\"xyz\")"
   ]
  },
  {
   "cell_type": "code",
   "execution_count": null,
   "id": "302c95cd",
   "metadata": {
    "tags": []
   },
   "outputs": [],
   "source": [
    "# args, kwargs, and positional args\n",
    "def j(x, *args, y=3, **kwargs):\n",
    "    print(f\"{x=} {y=} {args=} {kwargs=}\")"
   ]
  },
  {
   "cell_type": "code",
   "execution_count": null,
   "id": "2cb35398",
   "metadata": {
    "tags": []
   },
   "outputs": [],
   "source": [
    "j(1, 2, 3, 4, 5, 6, 7, 8, 9, y=3)"
   ]
  },
  {
   "cell_type": "code",
   "execution_count": null,
   "id": "24c27e31",
   "metadata": {
    "tags": []
   },
   "outputs": [],
   "source": [
    "j(foo=3)"
   ]
  },
  {
   "cell_type": "code",
   "execution_count": null,
   "id": "88637937",
   "metadata": {
    "tags": []
   },
   "outputs": [],
   "source": [
    "j(1, foo=3)"
   ]
  },
  {
   "cell_type": "code",
   "execution_count": null,
   "id": "c2e03046",
   "metadata": {
    "tags": []
   },
   "outputs": [],
   "source": [
    "j(x=1, foo=3)"
   ]
  },
  {
   "cell_type": "code",
   "execution_count": null,
   "id": "368cd5e7",
   "metadata": {
    "tags": []
   },
   "outputs": [],
   "source": [
    "j(1, 2, 3, 4, x=5, z=10)"
   ]
  }
 ],
 "metadata": {
  "kernelspec": {
   "display_name": "Python 3 (ipykernel)",
   "language": "python",
   "name": "python3"
  },
  "language_info": {
   "codemirror_mode": {
    "name": "ipython",
    "version": 3
   },
   "file_extension": ".py",
   "mimetype": "text/x-python",
   "name": "python",
   "nbconvert_exporter": "python",
   "pygments_lexer": "ipython3",
   "version": "3.10.15"
  },
  "toc": {
   "base_numbering": 1,
   "nav_menu": {},
   "number_sections": false,
   "sideBar": true,
   "skip_h1_title": false,
   "title_cell": "Table of Contents",
   "title_sidebar": "Contents",
   "toc_cell": false,
   "toc_position": {
    "height": "calc(100% - 180px)",
    "left": "10px",
    "top": "150px",
    "width": "192px"
   },
   "toc_section_display": true,
   "toc_window_display": false
  }
 },
 "nbformat": 4,
 "nbformat_minor": 5
}
